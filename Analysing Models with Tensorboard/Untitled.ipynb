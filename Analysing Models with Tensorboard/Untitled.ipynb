{
 "cells": [
  {
   "cell_type": "code",
   "execution_count": 2,
   "metadata": {},
   "outputs": [],
   "source": [
    "import tensorflow as tf\n",
    "from tensorflow.keras.datasets import cifar10\n",
    "from tensorflow.keras.preprocessing.image import ImageDataGenerator\n",
    "from tensorflow.keras.models import Sequential\n",
    "from tensorflow.keras.layers import Dense, Dropout, Activation, Flatten\n",
    "from tensorflow.keras.layers import Conv2D, MaxPooling2D\n",
    "import pickle\n",
    "import numpy as np\n",
    "from tensorflow.keras.callbacks import TensorBoard\n",
    "import time"
   ]
  },
  {
   "cell_type": "code",
   "execution_count": 3,
   "metadata": {
    "scrolled": true
   },
   "outputs": [
    {
     "name": "stdout",
     "output_type": "stream",
     "text": [
      "3-conv-128-nodes-0-dense-1573225416\n",
      "Train on 16675 samples, validate on 8325 samples\n",
      "Epoch 1/20\n",
      "16675/16675 [==============================] - 48s 3ms/sample - loss: 0.6452 - accuracy: 0.6234 - val_loss: 0.5665 - val_accuracy: 0.7199\n",
      "Epoch 2/20\n",
      "16675/16675 [==============================] - 41s 2ms/sample - loss: 0.5227 - accuracy: 0.7433 - val_loss: 0.4788 - val_accuracy: 0.7733\n",
      "Epoch 3/20\n",
      "16675/16675 [==============================] - 41s 2ms/sample - loss: 0.4544 - accuracy: 0.7879 - val_loss: 0.4490 - val_accuracy: 0.7912\n",
      "Epoch 4/20\n",
      "16675/16675 [==============================] - 41s 2ms/sample - loss: 0.3908 - accuracy: 0.8235 - val_loss: 0.4134 - val_accuracy: 0.8112\n",
      "Epoch 5/20\n",
      "16675/16675 [==============================] - 41s 2ms/sample - loss: 0.3498 - accuracy: 0.8425 - val_loss: 0.3948 - val_accuracy: 0.8192\n",
      "Epoch 6/20\n",
      "16675/16675 [==============================] - 41s 2ms/sample - loss: 0.2978 - accuracy: 0.8700 - val_loss: 0.3859 - val_accuracy: 0.8292\n",
      "Epoch 7/20\n",
      "16675/16675 [==============================] - 41s 2ms/sample - loss: 0.2477 - accuracy: 0.8964 - val_loss: 0.3790 - val_accuracy: 0.8384\n",
      "Epoch 8/20\n",
      "16675/16675 [==============================] - 41s 2ms/sample - loss: 0.2058 - accuracy: 0.9163 - val_loss: 0.4032 - val_accuracy: 0.8402\n",
      "Epoch 9/20\n",
      "16675/16675 [==============================] - 42s 2ms/sample - loss: 0.1612 - accuracy: 0.9373 - val_loss: 0.4668 - val_accuracy: 0.8195\n",
      "Epoch 10/20\n",
      "16675/16675 [==============================] - 42s 2ms/sample - loss: 0.1315 - accuracy: 0.9497 - val_loss: 0.4437 - val_accuracy: 0.8408\n",
      "Epoch 11/20\n",
      "16675/16675 [==============================] - 43s 3ms/sample - loss: 0.1038 - accuracy: 0.9617 - val_loss: 0.4853 - val_accuracy: 0.8428\n",
      "Epoch 12/20\n",
      "16675/16675 [==============================] - 43s 3ms/sample - loss: 0.0726 - accuracy: 0.9740 - val_loss: 0.6168 - val_accuracy: 0.8207\n",
      "Epoch 13/20\n",
      "16675/16675 [==============================] - 43s 3ms/sample - loss: 0.0608 - accuracy: 0.9783 - val_loss: 0.6498 - val_accuracy: 0.8265\n",
      "Epoch 14/20\n",
      "16675/16675 [==============================] - 43s 3ms/sample - loss: 0.0487 - accuracy: 0.9840 - val_loss: 0.6528 - val_accuracy: 0.8314\n",
      "Epoch 15/20\n",
      "16675/16675 [==============================] - 43s 3ms/sample - loss: 0.0510 - accuracy: 0.9813 - val_loss: 0.6588 - val_accuracy: 0.8370\n",
      "Epoch 16/20\n",
      "16675/16675 [==============================] - 42s 3ms/sample - loss: 0.0355 - accuracy: 0.9873 - val_loss: 0.7000 - val_accuracy: 0.8310\n",
      "Epoch 17/20\n",
      "16675/16675 [==============================] - 42s 3ms/sample - loss: 0.0397 - accuracy: 0.9862 - val_loss: 0.7653 - val_accuracy: 0.8255\n",
      "Epoch 18/20\n",
      "16675/16675 [==============================] - 42s 3ms/sample - loss: 0.0349 - accuracy: 0.9884 - val_loss: 0.8177 - val_accuracy: 0.8235\n",
      "Epoch 19/20\n",
      "16675/16675 [==============================] - 42s 3ms/sample - loss: 0.0297 - accuracy: 0.9888 - val_loss: 0.8007 - val_accuracy: 0.8322\n",
      "Epoch 20/20\n",
      "16675/16675 [==============================] - 42s 3ms/sample - loss: 0.0226 - accuracy: 0.9933 - val_loss: 0.9106 - val_accuracy: 0.8223\n"
     ]
    }
   ],
   "source": [
    "\n",
    "\n",
    "#gpu_options = tf.GPUOptions(per_process_gpu_fraction = 0.333)\n",
    "#sess = tf.Session(config = tf.ConfigProto(gpu_options = gpu_options))\n",
    "\n",
    "pickle_in = open(\"X.pickle\", \"rb\")\n",
    "X = pickle.load(pickle_in)\n",
    "\n",
    "pickle_in = open(\"y.pickle\", \"rb\")\n",
    "y = pickle.load(pickle_in)\n",
    "\n",
    "X = X / 255\n",
    "y = np.array(y)\n",
    "\n",
    "dense_layers = [0]\n",
    "layer_sizes = [128]\n",
    "conv_layers = [3]\n",
    "\n",
    "for dense_layer in dense_layers:\n",
    "    for layer_size in layer_sizes:\n",
    "        for conv_layer in conv_layers:\n",
    "            NAME = \"{}-conv-{}-nodes-{}-dense-{}\".format(conv_layer, layer_size, dense_layer, int(time.time()))\n",
    "            tensorboard = TensorBoard(log_dir = 'logs\\{}'.format(NAME))\n",
    "            print(NAME)\n",
    "            \n",
    "            model = Sequential()\n",
    "\n",
    "            model.add(Conv2D(layer_size, (3, 3), input_shape = X.shape[1: ]))\n",
    "            model.add(Activation('relu'))\n",
    "            model.add(MaxPooling2D(pool_size = (2, 2)))\n",
    "            \n",
    "            for l in range(conv_layer - 1):\n",
    "                model.add(Conv2D(layer_size, (3, 3)))\n",
    "                model.add(Activation('relu'))\n",
    "                model.add(MaxPooling2D(pool_size = (2, 2)))\n",
    "                \n",
    "            model.add(Flatten())\n",
    "            for l in range(dense_layer):\n",
    "                model.add(Dense(layer_size))\n",
    "                model.add(Activation('relu'))\n",
    "                \n",
    "            model.add(Dense(1))\n",
    "            model.add(Activation('sigmoid'))\n",
    "\n",
    "            model.compile(loss = 'binary_crossentropy',\n",
    "                         optimizer = 'adam',\n",
    "                         metrics = ['accuracy'])\n",
    "\n",
    "            model.fit(X, y, batch_size = 32, epochs = 20, validation_split = 0.333, callbacks = [tensorboard])"
   ]
  },
  {
   "cell_type": "code",
   "execution_count": 4,
   "metadata": {},
   "outputs": [
    {
     "name": "stdout",
     "output_type": "stream",
     "text": [
      "WARNING:tensorflow:From C:\\Users\\Varun Chandra\\.conda\\envs\\gputest\\lib\\site-packages\\tensorflow_core\\python\\ops\\resource_variable_ops.py:1781: calling BaseResourceVariable.__init__ (from tensorflow.python.ops.resource_variable_ops) with constraint is deprecated and will be removed in a future version.\n",
      "Instructions for updating:\n",
      "If using Keras pass *_constraint arguments to layers.\n",
      "INFO:tensorflow:Assets written to: Final-3conv-128nodes-0dense\\assets\n"
     ]
    }
   ],
   "source": [
    "model.save('Final-3conv-128nodes-0dense')"
   ]
  },
  {
   "cell_type": "code",
   "execution_count": null,
   "metadata": {},
   "outputs": [],
   "source": []
  }
 ],
 "metadata": {
  "kernelspec": {
   "display_name": "Python 3",
   "language": "python",
   "name": "python3"
  },
  "language_info": {
   "codemirror_mode": {
    "name": "ipython",
    "version": 3
   },
   "file_extension": ".py",
   "mimetype": "text/x-python",
   "name": "python",
   "nbconvert_exporter": "python",
   "pygments_lexer": "ipython3",
   "version": "3.7.4"
  }
 },
 "nbformat": 4,
 "nbformat_minor": 4
}
