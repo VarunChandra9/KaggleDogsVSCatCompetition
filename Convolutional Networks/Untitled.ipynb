{
 "cells": [
  {
   "cell_type": "code",
   "execution_count": 1,
   "metadata": {},
   "outputs": [],
   "source": [
    "import tensorflow as tf\n",
    "import numpy as np"
   ]
  },
  {
   "cell_type": "code",
   "execution_count": 2,
   "metadata": {},
   "outputs": [],
   "source": [
    "from tensorflow.keras.models import Sequential\n",
    "from tensorflow.keras.layers import Dense, Dropout, Activation, Flatten, Conv2D, MaxPooling2D\n",
    "import pickle\n",
    "\n",
    "X = pickle.load(open(\"X.pickle\", \"rb\"))\n",
    "y = pickle.load(open(\"y.pickle\", \"rb\"))\n"
   ]
  },
  {
   "cell_type": "markdown",
   "metadata": {},
   "source": [
    "## Scaling the data"
   ]
  },
  {
   "cell_type": "code",
   "execution_count": 3,
   "metadata": {},
   "outputs": [],
   "source": [
    "X = X / 255"
   ]
  },
  {
   "cell_type": "code",
   "execution_count": 4,
   "metadata": {},
   "outputs": [],
   "source": [
    "y = np.array(y)"
   ]
  },
  {
   "cell_type": "code",
   "execution_count": 9,
   "metadata": {},
   "outputs": [
    {
     "name": "stdout",
     "output_type": "stream",
     "text": [
      "Train on 22500 samples, validate on 2500 samples\n",
      "Epoch 1/10\n",
      "22500/22500 [==============================] - 26s 1ms/sample - loss: 0.5801 - accuracy: 0.6901 - val_loss: 0.4914 - val_accuracy: 0.7636\n",
      "Epoch 2/10\n",
      "22500/22500 [==============================] - 25s 1ms/sample - loss: 0.4658 - accuracy: 0.7777 - val_loss: 0.4591 - val_accuracy: 0.7816\n",
      "Epoch 3/10\n",
      "22500/22500 [==============================] - 26s 1ms/sample - loss: 0.4092 - accuracy: 0.8108 - val_loss: 0.4427 - val_accuracy: 0.8008\n",
      "Epoch 4/10\n",
      "22500/22500 [==============================] - 26s 1ms/sample - loss: 0.3337 - accuracy: 0.8508 - val_loss: 0.4796 - val_accuracy: 0.7800\n",
      "Epoch 5/10\n",
      "22500/22500 [==============================] - 26s 1ms/sample - loss: 0.2439 - accuracy: 0.8973 - val_loss: 0.5614 - val_accuracy: 0.7872\n",
      "Epoch 6/10\n",
      "22500/22500 [==============================] - 26s 1ms/sample - loss: 0.1544 - accuracy: 0.9395 - val_loss: 0.8164 - val_accuracy: 0.7556\n",
      "Epoch 7/10\n",
      "22500/22500 [==============================] - 26s 1ms/sample - loss: 0.0924 - accuracy: 0.9644 - val_loss: 0.9568 - val_accuracy: 0.7720\n",
      "Epoch 8/10\n",
      "22500/22500 [==============================] - 26s 1ms/sample - loss: 0.0637 - accuracy: 0.9771 - val_loss: 1.0582 - val_accuracy: 0.7860\n",
      "Epoch 9/10\n",
      "22500/22500 [==============================] - 27s 1ms/sample - loss: 0.0533 - accuracy: 0.9802 - val_loss: 1.2134 - val_accuracy: 0.7748\n",
      "Epoch 10/10\n",
      "22500/22500 [==============================] - 27s 1ms/sample - loss: 0.0334 - accuracy: 0.9879 - val_loss: 1.4920 - val_accuracy: 0.7836\n"
     ]
    },
    {
     "data": {
      "text/plain": [
       "<tensorflow.python.keras.callbacks.History at 0x1bfa6610e48>"
      ]
     },
     "execution_count": 9,
     "metadata": {},
     "output_type": "execute_result"
    }
   ],
   "source": [
    "model = Sequential()\n",
    "\n",
    "model.add(Conv2D(64, (3, 3), input_shape = X.shape[1:])) # 1 layer\n",
    "model.add(Activation(\"relu\"))\n",
    "model.add(MaxPooling2D(pool_size = (2, 2)))\n",
    "\n",
    "model.add(Conv2D(64, (3, 3))) # 2 layer\n",
    "model.add(Activation(\"relu\"))\n",
    "model.add(MaxPooling2D(pool_size = (2, 2)))\n",
    "\n",
    "model.add(Flatten()) # 3 layer\n",
    "\n",
    "model.add(Dense(64))\n",
    "model.add(Activation('relu')) #\n",
    "\n",
    "model.add(Dense(64))\n",
    "model.add(Activation('relu'))\n",
    "\n",
    "model.add(Dense(1)) # Output layer\n",
    "model.add(Activation('sigmoid'))\n",
    "\n",
    "model.compile(loss = \"binary_crossentropy\", \n",
    "             optimizer = \"adam\",\n",
    "             metrics = ['accuracy'])\n",
    "\n",
    "model.fit(X, y, batch_size = 32, validation_split = 0.1, epochs = 10)"
   ]
  },
  {
   "cell_type": "code",
   "execution_count": null,
   "metadata": {},
   "outputs": [],
   "source": [
    "help(\"modules\")"
   ]
  },
  {
   "cell_type": "code",
   "execution_count": null,
   "metadata": {},
   "outputs": [],
   "source": []
  }
 ],
 "metadata": {
  "kernelspec": {
   "display_name": "Python 3",
   "language": "python",
   "name": "python3"
  },
  "language_info": {
   "codemirror_mode": {
    "name": "ipython",
    "version": 3
   },
   "file_extension": ".py",
   "mimetype": "text/x-python",
   "name": "python",
   "nbconvert_exporter": "python",
   "pygments_lexer": "ipython3",
   "version": "3.7.4"
  }
 },
 "nbformat": 4,
 "nbformat_minor": 4
}
